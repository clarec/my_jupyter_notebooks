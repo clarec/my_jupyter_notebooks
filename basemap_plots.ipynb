{
 "cells": [
  {
   "cell_type": "markdown",
   "metadata": {},
   "source": [
    "After running into some issues with installing basemap using conda and python 3.5, I have switched to python 2.7 for plotting purposes.\n",
    "\n",
    "Basemap is a matplotlib extention that adds geographical projects and some datasets to be able to plot coast lines, countries and so on directly from the library."
   ]
  },
  {
   "cell_type": "markdown",
   "metadata": {},
   "source": [
    "## Sea ice concentration on a polar stereographic projection\n",
    "\n",
    "I downloaded the NOAA/NSIDC CDR monthly mean SIC product ([Meier et al., 2013](http://dx.doi.org/10.7265/N55M63M1)). This data set provides a Climate Data Record (CDR) of sea ice concentration from passive microwave data with consistent, daily and monthly time series of sea ice concentrations from 09 July 1987 through the most recent processing for both the north and south polar regions on a 25 km x 25 km polar stereographic grid. \n",
    "\n",
    "Meier, W., F. Fetterer, M. Savoie, S. Mallory, R. Duerr, and J. Stroeve. 2013, updated 2015. NOAA/NSIDC Climate Data Record of Passive Microwave Sea Ice Concentration, Version 2. [monthly]. Boulder, Colorado USA. NSIDC: National Snow and Ice Data Center. doi: http://dx.doi.org/10.7265/N55M63M1. [11 August, 2016].\n"
   ]
  },
  {
   "cell_type": "code",
   "execution_count": 7,
   "metadata": {
    "collapsed": true
   },
   "outputs": [],
   "source": [
    "import numpy\n",
    "from netCDF4 import Dataset # use Dataset to unpack netcdf data\n",
    "from matplotlib import pyplot\n",
    "from mpl_toolkits.basemap import Basemap\n",
    "\n",
    "# magic function to make matplotlib inline; other style specs must come after\n",
    "%matplotlib inline"
   ]
  },
  {
   "cell_type": "code",
   "execution_count": 8,
   "metadata": {
    "collapsed": true
   },
   "outputs": [],
   "source": [
    "seaicefile = 'data/seaice_conc_monthly_sh_f17_201408_v02r00.nc'\n",
    "fh = Dataset(seaicefile, mode='r')"
   ]
  },
  {
   "cell_type": "markdown",
   "metadata": {},
   "source": [
    "Check which variables are in the file:"
   ]
  },
  {
   "cell_type": "code",
   "execution_count": 9,
   "metadata": {
    "collapsed": false
   },
   "outputs": [
    {
     "name": "stdout",
     "output_type": "stream",
     "text": [
      "projection\n",
      "seaice_conc_monthly_cdr\n",
      "stdev_of_seaice_conc_monthly_cdr\n",
      "melt_onset_day_seaice_conc_monthly_cdr\n",
      "qa_of_seaice_conc_monthly_cdr\n",
      "goddard_merged_seaice_conc_monthly\n",
      "goddard_nt_seaice_conc_monthly\n",
      "goddard_bt_seaice_conc_monthly\n",
      "time\n",
      "ygrid\n",
      "xgrid\n",
      "latitude\n",
      "longitude\n"
     ]
    }
   ],
   "source": [
    "vars = fh.variables.keys()\n",
    "for i in vars:\n",
    "    print(i)"
   ]
  },
  {
   "cell_type": "markdown",
   "metadata": {},
   "source": [
    "I got the following ncdump function from [Chris Slocum](http://schubert.atmos.colostate.edu/~cslocum/netcdf_example.html). There are more examples on using NetCDF and Python at the Unidata NetCDF [example](http://www.unidata.ucar.edu/software/netcdf/examples/programs/) programs page."
   ]
  },
  {
   "cell_type": "code",
   "execution_count": 10,
   "metadata": {
    "collapsed": true
   },
   "outputs": [],
   "source": [
    "def ncdump(nc_fid, verb=True):\n",
    "    '''\n",
    "    ncdump outputs dimensions, variables and their attribute information.\n",
    "    The information is similar to that of NCAR's ncdump utility.\n",
    "    ncdump requires a valid instance of Dataset.\n",
    "\n",
    "    Parameters\n",
    "    ----------\n",
    "    nc_fid : netCDF4.Dataset\n",
    "        A netCDF4 dateset object\n",
    "    verb : Boolean\n",
    "        whether or not nc_attrs, nc_dims, and nc_vars are printed\n",
    "\n",
    "    Returns\n",
    "    -------\n",
    "    nc_attrs : list\n",
    "        A Python list of the NetCDF file global attributes\n",
    "    nc_dims : list\n",
    "        A Python list of the NetCDF file dimensions\n",
    "    nc_vars : list\n",
    "        A Python list of the NetCDF file variables\n",
    "    '''\n",
    "    def print_ncattr(key):\n",
    "        \"\"\"\n",
    "        Prints the NetCDF file attributes for a given key\n",
    "\n",
    "        Parameters\n",
    "        ----------\n",
    "        key : unicode\n",
    "            a valid netCDF4.Dataset.variables key\n",
    "        \"\"\"\n",
    "        try:\n",
    "            print \"\\t\\ttype:\", repr(nc_fid.variables[key].dtype)\n",
    "            for ncattr in nc_fid.variables[key].ncattrs():\n",
    "                print '\\t\\t%s:' % ncattr,\\\n",
    "                      repr(nc_fid.variables[key].getncattr(ncattr))\n",
    "        except KeyError:\n",
    "            print \"\\t\\tWARNING: %s does not contain variable attributes\" % key\n",
    "\n",
    "    # NetCDF global attributes\n",
    "    nc_attrs = nc_fid.ncattrs()\n",
    "    if verb:\n",
    "        print \"NetCDF Global Attributes:\"\n",
    "        for nc_attr in nc_attrs:\n",
    "            print '\\t%s:' % nc_attr, repr(nc_fid.getncattr(nc_attr))\n",
    "    nc_dims = [dim for dim in nc_fid.dimensions]  # list of nc dimensions\n",
    "    # Dimension shape information.\n",
    "    if verb:\n",
    "        print \"NetCDF dimension information:\"\n",
    "        for dim in nc_dims:\n",
    "            print \"\\tName:\", dim \n",
    "            print \"\\t\\tsize:\", len(nc_fid.dimensions[dim])\n",
    "            print_ncattr(dim)\n",
    "    # Variable information.\n",
    "    nc_vars = [var for var in nc_fid.variables]  # list of nc variables\n",
    "    if verb:\n",
    "        print \"NetCDF variable information:\"\n",
    "        for var in nc_vars:\n",
    "            if var not in nc_dims:\n",
    "                print '\\tName:', var\n",
    "                print \"\\t\\tdimensions:\", nc_fid.variables[var].dimensions\n",
    "                print \"\\t\\tsize:\", nc_fid.variables[var].size\n",
    "                print_ncattr(var)\n",
    "    return nc_attrs, nc_dims, nc_vars"
   ]
  },
  {
   "cell_type": "code",
   "execution_count": 11,
   "metadata": {
    "collapsed": false
   },
   "outputs": [
    {
     "name": "stdout",
     "output_type": "stream",
     "text": [
      "NetCDF Global Attributes:\n",
      "\tConventions: u'CF-1.6'\n",
      "\ttitle: u'NOAA/NSIDC Climate Data Record of Passive Microwave Sea Ice Concentration'\n",
      "\treferences: u'Comiso, J. C., and F. Nishio. 2008. Trends in the Sea Ice Cover Using Enhanced and Compatible AMSR-E, SSM/I, and SMMR Data. Journal of Geophysical Research 113, C02S07, doi:10.1029/2007JC0043257. ; Comiso, J. C., D. Cavalieri, C. Parkinson, and P. Gloersen. 1997. Passive Microwave Algorithms for Sea Ice Concentrations: A Comparison of Two Techniques. Remote Sensing of the Environment 60(3):357-84. ; Comiso, J. C. 1984. Characteristics of Winter Sea Ice from Satellite Multispectral Microwave Observations. Journal of Geophysical Research 91(C1):975-94. ; Cavalieri, D. J., P. Gloersen, and W. J. Campbell. 1984. Determination of Sea Ice Parameters with the NIMBUS-7 SMMR. Journal of Geophysical Research 89(D4):5355-5369. ; Cavalieri, D. J., C. l. Parkinson, P. Gloersen, J. C. Comiso, and H. J. Zwally. 1999. Deriving Long-term Time Series of Sea Ice Cover from Satellite Passive-Microwave Multisensor Data Sets. Journal of Geophysical Research 104(7):\\t15,803-15,814.'\n",
      "\tcomment: u'The variable melt_onset_day_seaice_conc_monthly_cdr is not available for this month.'\n",
      "\tcdr_program: u'NOAA Climate Data Record Program'\n",
      "\tcdr_variable: u'seaice_conc_monthly_cdr'\n",
      "\tsoftware_version_id: u'@a66fa14b5e170018a3cbf586a64ee6d1045c1d09'\n",
      "\tMetadata_Link: u'http://nsidc.org/api/metadata?id=g02202'\n",
      "\tproduct_version: u'v02r00'\n",
      "\tspatial_resolution: u'25km'\n",
      "\tMetadata_Conventions: u'CF-1.6, Unidata Dataset Discovery v1.0, NOAA CDR v1.0, GDS v2.0'\n",
      "\tstandard_name_vocabulary: u'CF Standard Name Table (v16, 11 October 2010)'\n",
      "\tid: u'G02202'\n",
      "\tnaming_authority: u'nsidc.org'\n",
      "\tlicense: u'No constraints on data access or use'\n",
      "\tsummary: u'This data set provides a passive microwave sea ice concentration climate data record (CDR) based on gridded brightness temperatures (TBs) from the Defense Meteorological Satellite Program (DMSP) series of passive microwave radiometers: the Special Sensor Microwave Imager (SSM/I) and the Special Sensor Microwave Imager/Sounder (SSMIS). The sea ice concentration CDR is an estimate of sea ice concentration that is produced by combining concentration estimates from two algorithms developed at the NASA Goddard Space Flight Center (GSFC): the NASA Team algorithm and the Bootstrap algorithm. The individual algorithms are processed and combined at NSIDC using brightness temperature data from Remote Sensing Systems, Inc. (RSS).  This product is designed to provide a consistent time series of sea ice concentrations (the fraction, or percentage, of ocean area covered by sea ice) from 1987 to the present which spans the coverage of several passive microwave instruments. The data are gridded on the NSIDC polar stereographic grid with 25 x 25 km grid cells, and are available in NetCDF file format. Each file contains a variable with the CDR concentration values as well as variables that hold the input NASA Team and Bootstrap concentrations for reference and a merged NASA Team/Bootstrap version of the Goddard sea ice concentrations that spans 1978 to the present made available as a longer-term analog of the CDR concentrations. Variables containing standard deviation, quality flags, and projection information are also included. Data are available via FTP. '\n",
      "\tkeywords: u'EARTH SCIENCE > CRYOSPHERE > SEA ICE > SEA ICE CONCENTRATION, Geographic Region > Polar, Geographic Region > Southern Hemisphere, Ocean > Southern Ocean, Ocean > Southern Ocean > Bellingshausen Sea, Ocean > Southern Ocean > Ross Sea, Ocean > Southern Ocean > Weddell Sea'\n",
      "\tkeywords_vocabulary: u'NASA Global Change Master Directory (GCMD) Keywords, Version 7.0.0'\n",
      "\tcdm_data_type: u'Grid'\n",
      "\tproject: u'NOAA/NSIDC passive microwave sea ice concentration climate data record'\n",
      "\tcreator_url: u'http://nsidc.org/'\n",
      "\tcreator_email: u'nsidc@nsidc.org'\n",
      "\tinstitution: u'NSIDC > National Snow and Ice Data Center'\n",
      "\tprocessing_level: u'NOAA Level 3'\n",
      "\tgeospatial_lat_min: -90.0\n",
      "\tgeospatial_lat_max: -41.450000000000003\n",
      "\tgeospatial_lat_units: u'degrees_north'\n",
      "\tgeospatial_lon_min: -180.0\n",
      "\tgeospatial_lon_max: 180.0\n",
      "\tgeospatial_lon_units: u'degrees_east'\n",
      "\ttime_coverage_duration: u'P1M'\n",
      "\ttime_coverage_resolution: u'P1M'\n",
      "\tcontributor_name: u'Walt Meier, Ruth Duerr, Florence Fetterer, Julienne Stroeve, Matt Savoie, Sean Mallory'\n",
      "\tcontributor_role: u'PrincipalInvestigator,author,author,author,author,author'\n",
      "\tacknowledgment: u'This project was supported in part by a grant from the NOAA Climate Data Record Program. Production of original NASA Team and Bootstrap algorithm estimates supported by the NASA Polar Distributed Active Archive Center. The sea ice concentration algorithms were developed by Donald J. Cavalieri, Josefino C. Comiso, Claire L. Parkinson, and others at the NASA Goddard Space Flight Center in Greenbelt, MD.'\n",
      "\tsource: u'ftp://sidads.colorado.edu/pub/DATASETS/NOAA/G02202_v2/south/daily/2014/seaice_conc_daily_sh_f17_20140801_v02r00.nc, ftp://sidads.colorado.edu/pub/DATASETS/NOAA/G02202_v2/south/daily/2014/seaice_conc_daily_sh_f17_20140802_v02r00.nc, ftp://sidads.colorado.edu/pub/DATASETS/NOAA/G02202_v2/south/daily/2014/seaice_conc_daily_sh_f17_20140803_v02r00.nc, ftp://sidads.colorado.edu/pub/DATASETS/NOAA/G02202_v2/south/daily/2014/seaice_conc_daily_sh_f17_20140804_v02r00.nc, ftp://sidads.colorado.edu/pub/DATASETS/NOAA/G02202_v2/south/daily/2014/seaice_conc_daily_sh_f17_20140805_v02r00.nc, ftp://sidads.colorado.edu/pub/DATASETS/NOAA/G02202_v2/south/daily/2014/seaice_conc_daily_sh_f17_20140806_v02r00.nc, ftp://sidads.colorado.edu/pub/DATASETS/NOAA/G02202_v2/south/daily/2014/seaice_conc_daily_sh_f17_20140807_v02r00.nc, ftp://sidads.colorado.edu/pub/DATASETS/NOAA/G02202_v2/south/daily/2014/seaice_conc_daily_sh_f17_20140808_v02r00.nc, ftp://sidads.colorado.edu/pub/DATASETS/NOAA/G02202_v2/south/daily/2014/seaice_conc_daily_sh_f17_20140809_v02r00.nc, ftp://sidads.colorado.edu/pub/DATASETS/NOAA/G02202_v2/south/daily/2014/seaice_conc_daily_sh_f17_20140810_v02r00.nc, ftp://sidads.colorado.edu/pub/DATASETS/NOAA/G02202_v2/south/daily/2014/seaice_conc_daily_sh_f17_20140811_v02r00.nc, ftp://sidads.colorado.edu/pub/DATASETS/NOAA/G02202_v2/south/daily/2014/seaice_conc_daily_sh_f17_20140812_v02r00.nc, ftp://sidads.colorado.edu/pub/DATASETS/NOAA/G02202_v2/south/daily/2014/seaice_conc_daily_sh_f17_20140813_v02r00.nc, ftp://sidads.colorado.edu/pub/DATASETS/NOAA/G02202_v2/south/daily/2014/seaice_conc_daily_sh_f17_20140814_v02r00.nc, ftp://sidads.colorado.edu/pub/DATASETS/NOAA/G02202_v2/south/daily/2014/seaice_conc_daily_sh_f17_20140815_v02r00.nc, ftp://sidads.colorado.edu/pub/DATASETS/NOAA/G02202_v2/south/daily/2014/seaice_conc_daily_sh_f17_20140816_v02r00.nc, ftp://sidads.colorado.edu/pub/DATASETS/NOAA/G02202_v2/south/daily/2014/seaice_conc_daily_sh_f17_20140817_v02r00.nc, ftp://sidads.colorado.edu/pub/DATASETS/NOAA/G02202_v2/south/daily/2014/seaice_conc_daily_sh_f17_20140818_v02r00.nc, ftp://sidads.colorado.edu/pub/DATASETS/NOAA/G02202_v2/south/daily/2014/seaice_conc_daily_sh_f17_20140819_v02r00.nc, ftp://sidads.colorado.edu/pub/DATASETS/NOAA/G02202_v2/south/daily/2014/seaice_conc_daily_sh_f17_20140820_v02r00.nc, ftp://sidads.colorado.edu/pub/DATASETS/NOAA/G02202_v2/south/daily/2014/seaice_conc_daily_sh_f17_20140821_v02r00.nc, ftp://sidads.colorado.edu/pub/DATASETS/NOAA/G02202_v2/south/daily/2014/seaice_conc_daily_sh_f17_20140822_v02r00.nc, ftp://sidads.colorado.edu/pub/DATASETS/NOAA/G02202_v2/south/daily/2014/seaice_conc_daily_sh_f17_20140823_v02r00.nc, ftp://sidads.colorado.edu/pub/DATASETS/NOAA/G02202_v2/south/daily/2014/seaice_conc_daily_sh_f17_20140824_v02r00.nc, ftp://sidads.colorado.edu/pub/DATASETS/NOAA/G02202_v2/south/daily/2014/seaice_conc_daily_sh_f17_20140825_v02r00.nc, ftp://sidads.colorado.edu/pub/DATASETS/NOAA/G02202_v2/south/daily/2014/seaice_conc_daily_sh_f17_20140826_v02r00.nc, ftp://sidads.colorado.edu/pub/DATASETS/NOAA/G02202_v2/south/daily/2014/seaice_conc_daily_sh_f17_20140827_v02r00.nc, ftp://sidads.colorado.edu/pub/DATASETS/NOAA/G02202_v2/south/daily/2014/seaice_conc_daily_sh_f17_20140828_v02r00.nc, ftp://sidads.colorado.edu/pub/DATASETS/NOAA/G02202_v2/south/daily/2014/seaice_conc_daily_sh_f17_20140829_v02r00.nc, ftp://sidads.colorado.edu/pub/DATASETS/NOAA/G02202_v2/south/daily/2014/seaice_conc_daily_sh_f17_20140830_v02r00.nc, ftp://sidads.colorado.edu/pub/DATASETS/NOAA/G02202_v2/south/daily/2014/seaice_conc_daily_sh_f17_20140831_v02r00.nc'\n",
      "\thistory: u'seaice_conc_monthly_sh_f17_201408_v02r00.nc created: 2015-09-01 22:09:52Z by user: ops using software: @a66fa14b5e170018a3cbf586a64ee6d1045c1d09'\n",
      "\tplatform: u'DMSP 5D-3/F17 > Defense Meteorological Satellite Program-F17'\n",
      "\tsensor: u'SSMI/S > Special Sensor Microwave Imager/Sounder'\n",
      "\tdate_created: u'2015-09-01T22:30:52Z'\n",
      "\ttime_coverage_start: u'2014-08-01T00:00:00Z'\n",
      "\ttime_coverage_end: u'2014-08-31T23:59:59Z'\n",
      "NetCDF dimension information:\n",
      "\tName: xgrid\n",
      "\t\tsize: 316\n",
      "\t\ttype: dtype('float32')\n",
      "\t\tvalid_range: array([-3950000.,  3950000.], dtype=float32)\n",
      "\t\tunits: u'meters'\n",
      "\t\tlong_name: u'projection_grid_x_centers'\n",
      "\t\tstandard_name: u'projection_x_coordinate'\n",
      "\t\taxis: u'X'\n",
      "\tName: ygrid\n",
      "\t\tsize: 332\n",
      "\t\ttype: dtype('float32')\n",
      "\t\tvalid_range: array([-3950000.,  4350000.], dtype=float32)\n",
      "\t\tunits: u'meters'\n",
      "\t\tlong_name: u'projection_grid_y_centers'\n",
      "\t\tstandard_name: u'projection_y_coordinate'\n",
      "\t\taxis: u'Y'\n",
      "\tName: time\n",
      "\t\tsize: 1\n",
      "\t\ttype: dtype('float64')\n",
      "\t\tstandard_name: u'time'\n",
      "\t\tunits: u'days since 1601-01-01 00:00:00'\n",
      "\t\tlong_name: u'ANSI date'\n",
      "\t\tcalendar: u'gregorian'\n",
      "\t\taxis: u'T'\n",
      "NetCDF variable information:\n",
      "\tName: projection\n",
      "\t\tdimensions: ()\n",
      "\t\tsize: 1.0\n",
      "\t\ttype: dtype('S1')\n",
      "\t\tgrid_boundary_top_projected_y: 4350000.0\n",
      "\t\tgrid_boundary_bottom_projected_y: -3950000.0\n",
      "\t\tgrid_boundary_right_projected_x: 3950000.0\n",
      "\t\tgrid_boundary_left_projected_x: -3950000.0\n",
      "\t\tparent_grid_cell_row_subset_start: 0.0\n",
      "\t\tparent_grid_cell_row_subset_end: 332.0\n",
      "\t\tparent_grid_cell_column_subset_start: 0.0\n",
      "\t\tparent_grid_cell_column_subset_end: 316.0\n",
      "\t\tspatial_ref: u'PROJCS[\"NSIDC Sea Ice Polar Stereographic South\",GEOGCS[\"Unspecified datum based upon the Hughes 1980 ellipsoid\",DATUM[\"Not_specified_based_on_Hughes_1980_ellipsoid\",SPHEROID[\"Hughes 1980\",6378273,298.279411123061,AUTHORITY[\"EPSG\",\"7058\"]],AUTHORITY[\"EPSG\",\"6054\"]],PRIMEM[\"Greenwich\",0,AUTHORITY[\"EPSG\",\"8901\"]],UNIT[\"degree\",0.01745329251994328,AUTHORITY[\"EPSG\",\"9122\"]],AUTHORITY[\"EPSG\",\"4054\"]],UNIT[\"metre\",1,AUTHORITY[\"EPSG\",\"9001\"]],PROJECTION[\"Polar_Stereographic\"],PARAMETER[\"latitude_of_origin\",-70],PARAMETER[\"central_meridian\",0],PARAMETER[\"scale_factor\",1],PARAMETER[\"false_easting\",0],PARAMETER[\"false_northing\",0],AUTHORITY[\"EPSG\",\"3412\"],AXIS[\"X\",UNKNOWN],AXIS[\"Y\",UNKNOWN]]'\n",
      "\t\tproj4text: u'+proj=stere +lat_0=-90 +lat_ts=-70 +lon_0=0 +k=1 +x_0=0 +y_0=0 +a=6378273 +b=6356889.449 +units=m +no_defs'\n",
      "\t\tsrid: u'urn:ogc:def:crs:EPSG::3412'\n",
      "\t\tGeoTransform: u'-3950000.0 25000.0 0 4350000.0 0 25000.0'\n",
      "\t\tgrid_mapping_name: u'polar_stereographic'\n",
      "\t\tlatitude_of_projection_origin: -90.0\n",
      "\t\tstandard_parallel: -70.0\n",
      "\t\tstraight_vertical_longitude_from_pole: 180.0\n",
      "\t\tlongitude_of_projection_origin: 0.0\n",
      "\t\tscaling_factor: 1.0\n",
      "\t\tfalse_easting: 0.0\n",
      "\t\tfalse_northing: 0.0\n",
      "\t\tsemimajor_radius: 6378273.0\n",
      "\t\tsemiminor_radius: 6356889.449\n",
      "\t\tunits: u'meters'\n",
      "\tName: seaice_conc_monthly_cdr\n",
      "\t\tdimensions: (u'time', u'ygrid', u'xgrid')\n",
      "\t\tsize: 104912\n",
      "\t\ttype: dtype('int8')\n",
      "\t\t_FillValue: -1\n",
      "\t\tvalid_range: array([  0, 100], dtype=int8)\n",
      "\t\t_Unsigned: u'true'\n",
      "\t\tlong_name: u'NOAA/NSIDC Climate Data Record of Passive Microwave Monthly Southern Hemisphere Sea Ice Concentration'\n",
      "\t\tstandard_name: u'sea_ice_area_fraction'\n",
      "\t\tunits: u'1'\n",
      "\t\tscale_factor: 0.0099999998\n",
      "\t\tcoordinates: u'longitude latitude time'\n",
      "\t\tflag_values: array([-5, -4, -3, -2, -1], dtype=int8)\n",
      "\t\tflag_meanings: u'pole_hole lakes coastal land_mask missing_data'\n",
      "\t\tdatum: u'+ellps=urn:ogc:def:crs:EPSG::4326'\n",
      "\t\tgrid_mapping: u'projection'\n",
      "\t\treference: u'http://nsidc.org/api/metadata?id=g02202'\n",
      "\t\tancillary_variables: u'stdev_of_seaice_conc_monthly_cdr qa_of_seaice_conc_monthly_cdr'\n",
      "\tName: stdev_of_seaice_conc_monthly_cdr\n",
      "\t\tdimensions: (u'time', u'ygrid', u'xgrid')\n",
      "\t\tsize: 104912\n",
      "\t\ttype: dtype('float32')\n",
      "\t\t_FillValue: -1.0\n",
      "\t\tvalid_range: array([ 0.,  1.], dtype=float32)\n",
      "\t\tlong_name: u'Passive Microwave Monthly Southern Hemisphere Sea Ice Concentration Source Estimated Standard Deviation'\n",
      "\t\tcoordinates: u'longitude latitude time'\n",
      "\t\tmissing_value: -1.0\n",
      "\t\tdatum: u'+ellps=urn:ogc:def:crs:EPSG::4326'\n",
      "\t\tgrid_mapping: u'projection'\n",
      "\tName: melt_onset_day_seaice_conc_monthly_cdr\n",
      "\t\tdimensions: (u'time', u'ygrid', u'xgrid')\n",
      "\t\tsize: 104912\n",
      "\t\ttype: dtype('int16')\n",
      "\t\t_FillValue: -1\n",
      "\t\tvalid_range: array([ 60, 244], dtype=int16)\n",
      "\t\t_Unsigned: u'true'\n",
      "\t\tlong_name: u'Monthly Day of Snow Melt Onset Over Sea Ice'\n",
      "\t\tunits: u'1'\n",
      "\t\tcoordinates: u'longitude latitude time'\n",
      "\t\tmissing_value: -1\n",
      "\t\tdatum: u'+ellps=urn:ogc:def:crs:EPSG::4326'\n",
      "\t\tgrid_mapping: u'projection'\n",
      "\tName: qa_of_seaice_conc_monthly_cdr\n",
      "\t\tdimensions: (u'time', u'ygrid', u'xgrid')\n",
      "\t\tsize: 104912\n",
      "\t\ttype: dtype('int8')\n",
      "\t\t_FillValue: 0\n",
      "\t\tvalid_range: array([  1, 255], dtype=int16)\n",
      "\t\t_Unsigned: u'true'\n",
      "\t\tlong_name: u'Passive Microwave Monthly Southern Hemisphere Sea Ice Concentration QC flags'\n",
      "\t\tstandard_name: u'sea_ice_area_fraction status_flag'\n",
      "\t\tcoordinates: u'longitude latitude time'\n",
      "\t\tflag_masks: array([   1,    2,    4,    8,   32,   64, -128], dtype=int8)\n",
      "\t\tflag_meanings: u'BT_majority_algorithm_for_monthly_CDR NT_majority_algorithm_for_monthly_CDR no_ice_allowed_per_climatology grid_cell_near_to_coast ice_present_less_half_of_month melt_detected_at_least_one_day melt_detected_greater_than_half_month'\n",
      "\t\tmissing_value: 0\n",
      "\t\tdatum: u'+ellps=urn:ogc:def:crs:EPSG::4326'\n",
      "\t\tgrid_mapping: u'projection'\n",
      "\tName: goddard_merged_seaice_conc_monthly\n",
      "\t\tdimensions: (u'time', u'ygrid', u'xgrid')\n",
      "\t\tsize: 104912\n",
      "\t\ttype: dtype('int8')\n",
      "\t\t_FillValue: -1\n",
      "\t\tvalid_range: array([  0, 100], dtype=int8)\n",
      "\t\t_Unsigned: u'true'\n",
      "\t\tlong_name: u'Goddard Edited Climate Data Record of Passive Microwave Monthly Southern Hemisphere Sea Ice Concentration, Goddard Edited'\n",
      "\t\tstandard_name: u'sea_ice_area_fraction'\n",
      "\t\tunits: u'1'\n",
      "\t\tscale_factor: 0.0099999998\n",
      "\t\tcoordinates: u'longitude latitude time'\n",
      "\t\tflag_values: array([-5, -4, -3, -2, -1], dtype=int8)\n",
      "\t\tflag_meanings: u'pole_hole lakes coastal land_mask missing_data'\n",
      "\t\tdatum: u'+ellps=urn:ogc:def:crs:EPSG::4326'\n",
      "\t\tgrid_mapping: u'projection'\n",
      "\t\treference: u'http://nsidc.org/data/nsidc-0051.html http://nsidc.org/data/nsidc-0079.html'\n",
      "\tName: goddard_nt_seaice_conc_monthly\n",
      "\t\tdimensions: (u'time', u'ygrid', u'xgrid')\n",
      "\t\tsize: 104912\n",
      "\t\ttype: dtype('int8')\n",
      "\t\t_FillValue: -1\n",
      "\t\tvalid_range: array([  0, 100], dtype=int8)\n",
      "\t\t_Unsigned: u'true'\n",
      "\t\tlong_name: u'Passive Microwave Monthly Southern Hemisphere Sea Ice Concentration by NASA Team algorithm with Goddard QC'\n",
      "\t\tstandard_name: u'sea_ice_area_fraction'\n",
      "\t\tunits: u'1'\n",
      "\t\tscale_factor: 0.0099999998\n",
      "\t\tcoordinates: u'longitude latitude time'\n",
      "\t\tflag_values: array([-5, -4, -3, -2, -1], dtype=int8)\n",
      "\t\tflag_meanings: u'pole_hole unused coastal land_mask missing_data'\n",
      "\t\tdatum: u'+ellps=urn:ogc:def:crs:EPSG::4326'\n",
      "\t\tgrid_mapping: u'projection'\n",
      "\t\treference: u'Documentation available at: http://nsidc.org/data/nsidc-0051.html'\n",
      "\tName: goddard_bt_seaice_conc_monthly\n",
      "\t\tdimensions: (u'time', u'ygrid', u'xgrid')\n",
      "\t\tsize: 104912\n",
      "\t\ttype: dtype('int8')\n",
      "\t\t_FillValue: -1\n",
      "\t\tvalid_range: array([  0, 100], dtype=int8)\n",
      "\t\t_Unsigned: u'true'\n",
      "\t\tlong_name: u'Passive Microwave Monthly Southern Hemisphere Sea Ice Concentration by Bootstrap algorithm with Goddard QC'\n",
      "\t\tstandard_name: u'sea_ice_area_fraction'\n",
      "\t\tunits: u'1'\n",
      "\t\tscale_factor: 0.0099999998\n",
      "\t\tcoordinates: u'longitude latitude time'\n",
      "\t\tflag_values: array([-5, -4, -3, -2, -1], dtype=int8)\n",
      "\t\tflag_meanings: u'pole_hole unused coastal land_mask missing_data'\n",
      "\t\tdatum: u'+ellps=urn:ogc:def:crs:EPSG::4326'\n",
      "\t\tgrid_mapping: u'projection'\n",
      "\t\treference: u'Documentation available at: http://nsidc.org/data/nsidc-0079.html'\n",
      "\tName: latitude\n",
      "\t\tdimensions: (u'ygrid', u'xgrid')\n",
      "\t\tsize: 104912\n",
      "\t\ttype: dtype('float64')\n",
      "\t\tstandard_name: u'latitude'\n",
      "\t\tlong_name: u'latitude'\n",
      "\t\tunits: u'degrees_north'\n",
      "\t\tvalid_range: array([-90.,   0.], dtype=float32)\n",
      "\t\t_FillValue: -999.0\n",
      "\tName: longitude\n",
      "\t\tdimensions: (u'ygrid', u'xgrid')\n",
      "\t\tsize: 104912\n",
      "\t\ttype: dtype('float64')\n",
      "\t\tstandard_name: u'longitude'\n",
      "\t\tlong_name: u'longitude'\n",
      "\t\tunits: u'degrees_east'\n",
      "\t\tvalid_range: array([-180.,  180.], dtype=float32)\n",
      "\t\t_FillValue: -999.0\n"
     ]
    }
   ],
   "source": [
    "nc_attrs, nc_dims, nc_vars = ncdump(fh)"
   ]
  },
  {
   "cell_type": "code",
   "execution_count": 12,
   "metadata": {
    "collapsed": true
   },
   "outputs": [],
   "source": [
    "# extract the variables that we want to use:\n",
    "\n",
    "lons = fh.variables['longitude'][:]\n",
    "lats = fh.variables['latitude'][:]\n",
    "#time = fh.variables['time'][:]\n",
    "#xgrid = fh.variables['xgrid'][:]\n",
    "#ygrid = fh.variables['ygrid'][:]\n",
    "sic = fh.variables['seaice_conc_monthly_cdr'][:]\n",
    "sic2 = fh.variables['goddard_merged_seaice_conc_monthly'][:]\n",
    "#proj = fh.variables['projection'][:]"
   ]
  },
  {
   "cell_type": "code",
   "execution_count": 13,
   "metadata": {
    "collapsed": true
   },
   "outputs": [],
   "source": [
    "# close the file\n",
    "\n",
    "fh.close()"
   ]
  },
  {
   "cell_type": "markdown",
   "metadata": {},
   "source": [
    "Mask areas with no sea ice cover (i.e. sic <= 0.0) using [numpy.ma](http://docs.scipy.org/doc/numpy/reference/maskedarray.generic.html) (see link for many masking options)."
   ]
  },
  {
   "cell_type": "code",
   "execution_count": 14,
   "metadata": {
    "collapsed": true
   },
   "outputs": [],
   "source": [
    "import numpy.ma\n",
    "sic_masked = numpy.ma.masked_less_equal(sic, 0.0)\n",
    "sic_masked2 = numpy.ma.masked_less_equal(sic2, 0.0)"
   ]
  },
  {
   "cell_type": "markdown",
   "metadata": {},
   "source": [
    "### Some notes on basemap settings\n",
    "\n",
    "**NB** 'm' is used to signify map. \n",
    "\n",
    "All maps have a projection. The projection argument set the map projection to be used and many projections require extra arguments. For more information on available projections see http://matplotlib.org/basemap/users/mapsetup.html\n",
    "The projection `spstere` provides the south pole aspect of the stereographic conformal projection:\n",
    "* longitude `lon_0` is at 6-o'clock\n",
    "* latitude circle `boundinglat` is tangent to the edge of the map at lon_0\n",
    "* default value of `lat_ts` (latitude of ture scale) is pole.\n",
    "\n",
    "Resolution options are 'c' = crude, 'l' = low, 'i' = intermediate, 'h' = high, 'f' = full or None. None is a good option if a Shapefile will be used.\n",
    "\n",
    "Matplotlib [colormap](http://matplotlib.org/examples/color/colormaps_reference.html) options can all be reversed by adding \"_r\"."
   ]
  },
  {
   "cell_type": "code",
   "execution_count": 17,
   "metadata": {
    "collapsed": false
   },
   "outputs": [
    {
     "data": {
      "text/plain": [
       "<matplotlib.colorbar.Colorbar at 0x24d9e668>"
      ]
     },
     "execution_count": 17,
     "metadata": {},
     "output_type": "execute_result"
    },
    {
     "data": {
      "image/png": "[encoded data removed]",
      "text/plain": [
       "<matplotlib.figure.Figure at 0x113861d0>"
      ]
     },
     "metadata": {},
     "output_type": "display_data"
    }
   ],
   "source": [
    "m = Basemap(projection='spstere', boundinglat=-50, lon_0=180., resolution='l', round=True)\n",
    "\n",
    "#m.bluemarble(alpha = 0.9) # NASA Blue Marble image as map backgrouond\n",
    "#m.etopo(alpha = 0.5) # etopo relief image as map background\n",
    "#m.shadedrelief(alpha = 0.5) # shaded relief image as map background\n",
    "#m.drawlsmask(land_color='coral', ocean_color='aqua',lakes=True) # high resolution land-sea mask \n",
    "#m.warpimage() #arbitrary image as map background (image must be global, covering the world in lat.lon coords from the international dateline eastward and the South Pole northward)\n",
    "\n",
    "m.drawcountries(linewidth=0.25)\n",
    "\n",
    "m.drawmeridians(numpy.arange(0., 360., 30.),labels=[1,1,1,1],fontsize=8)#,labelstyle='+/-',fmt='%i')\n",
    "m.drawparallels(numpy.arange(-180., 0., 30.),labels=[0,1,1,0])\n",
    "m.pcolormesh(lons, lats, sic_masked[0,:,:], cmap='RdYlBu',latlon=True)\n",
    "\n",
    "pyplot.title('Monthly sea ice concentration\\n(August 2014)')\n",
    "pyplot.colorbar(orientation='horizontal', shrink=0.65)\n"
   ]
  },
  {
   "cell_type": "markdown",
   "metadata": {
    "collapsed": false
   },
   "source": [
    "Next I plotted the same data as a function of longitude and month (2014). \n",
    "**Note:** This is not finished - I wanted to try to reproduce something along the lines of fig 2 in [Hobbs et al., 2016](http://www.sciencedirect.com/science/article/pii/S0921818116300364), but still need to work out the pre-processing."
   ]
  },
  {
   "cell_type": "code",
   "execution_count": 9,
   "metadata": {
    "collapsed": false
   },
   "outputs": [],
   "source": [
    "# open container for all monthly files\n",
    "sic_year = []\n",
    "\n",
    "for i in range(12):\n",
    "    num = str(i+1)\n",
    "    if len(num)<2:\n",
    "        num='0'+num\n",
    "    #print num\n",
    "    seaicefile = 'data/seaice_conc_monthly_sh_f17_2014'+num+'_v02r00.nc'\n",
    "    #print seaicefile\n",
    "    \n",
    "    fh = Dataset(seaicefile, mode='r')\n",
    "    sicm = fh.variables['seaice_conc_monthly_cdr'][:]\n",
    "    if i == 0:\n",
    "        lons = fh.variables['longitude'][:]\n",
    "        lats = fh.variables['latitude'][:]\n",
    "        sic_year = sicm\n",
    "    else:\n",
    "        sic_year = numpy.vstack((sic_year,sicm))\n",
    "    fh.close()"
   ]
  },
  {
   "cell_type": "code",
   "execution_count": 17,
   "metadata": {
    "collapsed": false
   },
   "outputs": [
    {
     "name": "stdout",
     "output_type": "stream",
     "text": [
      "(12L, 332L, 316L)\n",
      "(332L, 316L)\n",
      "(332L, 316L)\n",
      "[-39.36486911 -39.50529733 -39.64551372 -39.78551336 -39.92529126\n",
      " -40.06484238 -40.20416165 -40.34324393 -40.48208404 -40.62067676]\n",
      "[-39.36486911 -39.49228444 -39.61938141 -39.74615466 -39.87259878\n",
      " -39.99870833 -40.12447782 -40.24990171 -40.37497443 -40.49969039]\n",
      "[[-39.36486911 -39.49228444 -39.61938141 -39.74615466]\n",
      " [-39.50529733 -39.6332616  -39.76090862 -39.88823299]\n",
      " [-39.64551372 -39.77402885 -39.90222784 -40.0301053 ]\n",
      " [-39.78551336 -39.91458122 -40.04333412 -40.17176661]]\n",
      "[[-42.23256961 -42.05100608 -41.86839864 -41.68474199]\n",
      " [-42.3974378  -42.21577271 -42.03305644 -41.84928359]\n",
      " [-42.56335175 -42.38159053 -42.19877084 -42.01488716]\n",
      " [-42.73031865 -42.54846683 -42.36554924 -42.18156022]]\n"
     ]
    }
   ],
   "source": [
    "print(sic_year.shape)\n",
    "sic_year = numpy.ma.masked_less_equal(sic_year, 0.0)\n",
    "print(lons.shape)\n",
    "print(lats.shape)\n",
    "print(lats[:10,0])\n",
    "print(lats[0,:10])\n",
    "print(lats[:4,:4])\n",
    "print(lons[:4,:4])"
   ]
  }
 ],
 "metadata": {
  "anaconda-cloud": {},
  "kernelspec": {
   "display_name": "Python [python2]",
   "language": "python",
   "name": "Python [python2]"
  },
  "language_info": {
   "codemirror_mode": {
    "name": "ipython",
    "version": 2
   },
   "file_extension": ".py",
   "mimetype": "text/x-python",
   "name": "python",
   "nbconvert_exporter": "python",
   "pygments_lexer": "ipython2",
   "version": "2.7.12"
  }
 },
 "nbformat": 4,
 "nbformat_minor": 0
}
