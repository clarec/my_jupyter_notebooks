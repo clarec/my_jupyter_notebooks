{
 "cells": [
  {
   "cell_type": "markdown",
   "metadata": {
    "nbpresent": {
     "id": "79d788c2-a833-4b4c-948e-c64478daf7b4"
    },
    "slideshow": {
     "slide_type": "slide"
    }
   },
   "source": [
    "This notebook is a practice notebook for developing slides using the jupyter notebook. \n",
    "\n",
    "## Basic Instructions\n",
    "\n",
    "There are two steps:\n",
    "* Create content in a Jupyter Notebook\n",
    "* There are two options for viewing the slides:\n",
    "    + Use jupyter-nbconvert to convert the notebook to a HTML/JS based slide deck which can be opened in any modern browser\n",
    "    + Show in presentation mode (which requires running Jupyter kernel).\n",
    "\n",
    "To create slides, activate the \"Slideshow\" toolbar from the \"View > Cell Toolbar menu\". Once you do that, each of your cells will have a drop down box, and you can select what the cell is. The options are: \n",
    "* Slide (start a new slide)\n",
    "* Sub-slide (adds a new slide below the main slide)\n",
    "* Fragment (add a new fragment to appear step-by-step)\n",
    "* Skip (skips the cell from the final slide deck) \n",
    "* Notes (will be visible in \"speaker mode\")\n"
   ]
  },
  {
   "cell_type": "markdown",
   "metadata": {
    "nbpresent": {
     "id": "99ed6c58-407a-43e4-93f9-7f625ae18c6e"
    },
    "slideshow": {
     "slide_type": "slide"
    }
   },
   "source": [
    "To view slides locally (this will open a new window in the browser with the presentation):"
   ]
  },
  {
   "cell_type": "markdown",
   "metadata": {
    "slideshow": {
     "slide_type": "fragment"
    }
   },
   "source": [
    "`jupyter nbconvert {notebook file} --to slides --post serve`"
   ]
  },
  {
   "cell_type": "markdown",
   "metadata": {
    "nbpresent": {
     "id": "4fd8c658-9066-489c-9c30-439a35feb960"
    },
    "slideshow": {
     "slide_type": "fragment"
    }
   },
   "source": [
    "To generate a static html file in the current directory:"
   ]
  },
  {
   "cell_type": "markdown",
   "metadata": {
    "slideshow": {
     "slide_type": "fragment"
    }
   },
   "source": [
    "`jupyter nbconvert {notebook file} --to slides --reveal-prefix=reveal.js`"
   ]
  },
  {
   "cell_type": "markdown",
   "metadata": {
    "slideshow": {
     "slide_type": "fragment"
    }
   },
   "source": [
    "NB this didn't work for me - instead of creating slides it created an html page of the whole notebook... **NEED TO LOOK INTO THIS!**"
   ]
  },
  {
   "cell_type": "markdown",
   "metadata": {
    "nbpresent": {
     "id": "35957473-5f3e-4953-b3a8-1eec92e06704"
    },
    "slideshow": {
     "slide_type": "slide"
    }
   },
   "source": [
    "## Customization\n",
    "\n"
   ]
  },
  {
   "cell_type": "markdown",
   "metadata": {
    "nbpresent": {
     "id": "f3d3c6fe-2064-457a-abbb-ddca9aa2ccc6"
    },
    "slideshow": {
     "slide_type": "slide"
    }
   },
   "source": [
    "# Hello, _nbpresent_!"
   ]
  },
  {
   "cell_type": "code",
   "execution_count": null,
   "metadata": {
    "collapsed": true,
    "nbpresent": {
     "id": "dcf5c497-108d-44c2-a26f-e60030f85588"
    },
    "slideshow": {
     "slide_type": "fragment"
    }
   },
   "outputs": [],
   "source": [
    "import nbpresent\n",
    "nbpresent.__version__"
   ]
  },
  {
   "cell_type": "markdown",
   "metadata": {
    "nbpresent": {
     "id": "b441cfaa-6810-4f4e-a711-b6ce42b24e59"
    },
    "slideshow": {
     "slide_type": "subslide"
    }
   },
   "source": [
    "# Hello, _nbpresent_!"
   ]
  },
  {
   "cell_type": "code",
   "execution_count": null,
   "metadata": {
    "collapsed": false,
    "nbpresent": {
     "id": "23c4eba4-d0b6-481f-bdbc-5219bae0ee7f"
    },
    "slideshow": {
     "slide_type": "fragment"
    }
   },
   "outputs": [],
   "source": [
    "import nbpresent\n",
    "nbpresent.__version__"
   ]
  },
  {
   "cell_type": "code",
   "execution_count": null,
   "metadata": {
    "collapsed": true,
    "nbpresent": {
     "id": "dd831c34-7d09-4d2d-b298-f61d0735ee74"
    }
   },
   "outputs": [],
   "source": []
  }
 ],
 "metadata": {
  "anaconda-cloud": {},
  "celltoolbar": "Slideshow",
  "kernelspec": {
   "display_name": "Python [Root]",
   "language": "python",
   "name": "Python [Root]"
  },
  "language_info": {
   "codemirror_mode": {
    "name": "ipython",
    "version": 3
   },
   "file_extension": ".py",
   "mimetype": "text/x-python",
   "name": "python",
   "nbconvert_exporter": "python",
   "pygments_lexer": "ipython3",
   "version": "3.5.2"
  },
  "nbpresent": {
   "slides": {
    "1c9b2a17-66e0-4fe8-b7d3-a6b688a0f8ea": {
     "id": "1c9b2a17-66e0-4fe8-b7d3-a6b688a0f8ea",
     "prev": "1d705482-d580-45e3-afdf-f7d87951beb8",
     "regions": {
      "d5db2adb-a511-4dbd-81b6-667e1f96c4ae": {
       "attrs": {
        "height": 0.8,
        "width": 0.8,
        "x": 0.1,
        "y": 0.1
       },
       "content": {
        "cell": "35957473-5f3e-4953-b3a8-1eec92e06704",
        "part": "whole"
       },
       "id": "d5db2adb-a511-4dbd-81b6-667e1f96c4ae"
      }
     }
    },
    "1d705482-d580-45e3-afdf-f7d87951beb8": {
     "id": "1d705482-d580-45e3-afdf-f7d87951beb8",
     "prev": "424c4d41-b7fd-427f-ae56-ca93c74a24ce",
     "regions": {
      "34e213c3-5c5e-48a3-9a80-7f01a4fe02d0": {
       "attrs": {
        "height": 0.4,
        "width": 0.8,
        "x": 0.1,
        "y": 0.5
       },
       "content": {
        "cell": "4fd8c658-9066-489c-9c30-439a35feb960",
        "part": "whole"
       },
       "id": "34e213c3-5c5e-48a3-9a80-7f01a4fe02d0"
      },
      "41797e55-fdf3-47cd-a754-7c79b27e62d5": {
       "attrs": {
        "height": 0.4,
        "width": 0.8,
        "x": 0.1,
        "y": 0.5
       },
       "content": {
        "cell": "8f36a642-4cbd-48a8-addf-778ff7dca967",
        "part": "whole"
       },
       "id": "41797e55-fdf3-47cd-a754-7c79b27e62d5"
      },
      "7db44a4f-d442-4f08-9cca-5416ad3d0250": {
       "attrs": {
        "height": 0.8,
        "width": 0.8,
        "x": 0.1,
        "y": 0.1
       },
       "content": {
        "cell": "99ed6c58-407a-43e4-93f9-7f625ae18c6e",
        "part": "whole"
       },
       "id": "7db44a4f-d442-4f08-9cca-5416ad3d0250"
      },
      "ede83037-8f63-4609-9f81-e006aba95633": {
       "attrs": {
        "height": 0.4,
        "width": 0.8,
        "x": 0.1,
        "y": 0.5
       },
       "content": {
        "cell": "3beb4abe-5c3a-474e-8bd0-ed762810cf3d",
        "part": "whole"
       },
       "id": "ede83037-8f63-4609-9f81-e006aba95633"
      }
     }
    },
    "26e538d6-9009-4a77-91fe-0d271f6ed9f9": {
     "id": "26e538d6-9009-4a77-91fe-0d271f6ed9f9",
     "prev": "cdeffed6-5f7f-4e70-9d02-891f76e7386f",
     "regions": {
      "556be29d-1300-48b8-aa79-7165f6b4c93c": {
       "attrs": {
        "height": 0.4,
        "width": 0.8,
        "x": 0.1,
        "y": 0.5
       },
       "content": {
        "cell": "dd831c34-7d09-4d2d-b298-f61d0735ee74",
        "part": "whole"
       },
       "id": "556be29d-1300-48b8-aa79-7165f6b4c93c"
      },
      "bac5929f-7706-4f4e-9ab7-7fd262c0b159": {
       "attrs": {
        "height": 0.4,
        "width": 0.8,
        "x": 0.1,
        "y": 0.5
       },
       "content": {
        "cell": "23c4eba4-d0b6-481f-bdbc-5219bae0ee7f",
        "part": "whole"
       },
       "id": "bac5929f-7706-4f4e-9ab7-7fd262c0b159"
      },
      "d0c7f533-dc00-4297-9ac2-1298a4e4c0eb": {
       "attrs": {
        "height": 0.8,
        "width": 0.8,
        "x": 0.1,
        "y": 0.1
       },
       "content": {
        "cell": "b441cfaa-6810-4f4e-a711-b6ce42b24e59",
        "part": "whole"
       },
       "id": "d0c7f533-dc00-4297-9ac2-1298a4e4c0eb"
      }
     }
    },
    "424c4d41-b7fd-427f-ae56-ca93c74a24ce": {
     "id": "424c4d41-b7fd-427f-ae56-ca93c74a24ce",
     "prev": null,
     "regions": {
      "bc4c835f-21a9-4b90-a410-d069b60be2da": {
       "attrs": {
        "height": 0.8,
        "width": 0.8,
        "x": 0.1,
        "y": 0.1
       },
       "content": {
        "cell": "79d788c2-a833-4b4c-948e-c64478daf7b4",
        "part": "whole"
       },
       "id": "bc4c835f-21a9-4b90-a410-d069b60be2da"
      }
     }
    },
    "cdeffed6-5f7f-4e70-9d02-891f76e7386f": {
     "id": "cdeffed6-5f7f-4e70-9d02-891f76e7386f",
     "prev": "1c9b2a17-66e0-4fe8-b7d3-a6b688a0f8ea",
     "regions": {
      "a9fe869f-b22b-453b-a95c-4203f9d76bd5": {
       "attrs": {
        "height": 0.8,
        "width": 0.8,
        "x": 0.1,
        "y": 0.1
       },
       "content": {
        "cell": "f3d3c6fe-2064-457a-abbb-ddca9aa2ccc6",
        "part": "whole"
       },
       "id": "a9fe869f-b22b-453b-a95c-4203f9d76bd5"
      },
      "e722b8cc-07d3-46ac-b9b7-f5654fcba44e": {
       "attrs": {
        "height": 0.4,
        "width": 0.8,
        "x": 0.1,
        "y": 0.5
       },
       "content": {
        "cell": "dcf5c497-108d-44c2-a26f-e60030f85588",
        "part": "whole"
       },
       "id": "e722b8cc-07d3-46ac-b9b7-f5654fcba44e"
      }
     }
    }
   },
   "themes": {}
  }
 },
 "nbformat": 4,
 "nbformat_minor": 0
}
