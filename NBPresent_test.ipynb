{
 "cells": [
  {
   "cell_type": "markdown",
   "metadata": {},
   "source": [
    "# Hello, _nbpresent_!"
   ]
  },
  {
   "cell_type": "code",
   "execution_count": null,
   "metadata": {
    "collapsed": true
   },
   "outputs": [],
   "source": [
    "import nbpresent\n",
    "nbpresent.__version__"
   ]
  },
  {
   "cell_type": "markdown",
   "metadata": {},
   "source": [
    "# Hello, _nbpresent_!"
   ]
  },
  {
   "cell_type": "code",
   "execution_count": 1,
   "metadata": {
    "collapsed": false
   },
   "outputs": [
    {
     "data": {
      "text/plain": [
       "'3.0.2'"
      ]
     },
     "execution_count": 1,
     "metadata": {},
     "output_type": "execute_result"
    }
   ],
   "source": [
    "import nbpresent\n",
    "nbpresent.__version__"
   ]
  },
  {
   "cell_type": "code",
   "execution_count": null,
   "metadata": {
    "collapsed": true,
    "nbpresent": {
     "id": "dd831c34-7d09-4d2d-b298-f61d0735ee74"
    }
   },
   "outputs": [],
   "source": []
  }
 ],
 "metadata": {
  "kernelspec": {
   "display_name": "Python [Root]",
   "language": "python",
   "name": "Python [Root]"
  },
  "language_info": {
   "codemirror_mode": {
    "name": "ipython",
    "version": 3
   },
   "file_extension": ".py",
   "mimetype": "text/x-python",
   "name": "python",
   "nbconvert_exporter": "python",
   "pygments_lexer": "ipython3",
   "version": "3.5.2"
  },
  "nbpresent": {
   "slides": {
    "9651f110-ad09-4495-b491-53a3dfdc45cc": {
     "id": "9651f110-ad09-4495-b491-53a3dfdc45cc",
     "prev": null,
     "regions": {
      "9aed1498-7c70-4902-8981-034a9b80dab7": {
       "attrs": {
        "height": 1,
        "width": 1,
        "x": 0,
        "y": 0
       },
       "content": {
        "cell": "dd831c34-7d09-4d2d-b298-f61d0735ee74",
        "part": "source"
       },
       "id": "9aed1498-7c70-4902-8981-034a9b80dab7"
      }
     }
    },
    "b32f4fa6-8a0e-4da1-a317-d5b379d30432": {
     "id": "b32f4fa6-8a0e-4da1-a317-d5b379d30432",
     "prev": "9651f110-ad09-4495-b491-53a3dfdc45cc",
     "regions": {
      "d7ea5abb-aa52-48ec-8c37-bea66a5fcebe": {
       "attrs": {
        "height": 1,
        "width": 1,
        "x": 0,
        "y": 0
       },
       "id": "d7ea5abb-aa52-48ec-8c37-bea66a5fcebe"
      }
     }
    }
   },
   "themes": {}
  }
 },
 "nbformat": 4,
 "nbformat_minor": 0
}
